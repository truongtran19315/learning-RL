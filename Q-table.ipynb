{
 "cells": [
  {
   "cell_type": "code",
   "execution_count": 13,
   "metadata": {},
   "outputs": [],
   "source": [
    "import numpy as np\n",
    "import pandas as pd\n",
    "import time\n",
    "\n",
    "np.random.seed(2)  # Để có thể tạo kết quả giống nhau mỗi lần chạy (đảm bảo tái tạo)\n",
    "\n",
    "N_STATES = 6  # Độ dài của thế giới 1 chiều\n",
    "ACTIONS = ['left', 'right']  # Các hành động có sẵn\n",
    "EPSILON = 0.9  # Tham lam (epsilon-greedy)\n",
    "ALPHA = 0.1  # Tốc độ học (learning rate)\n",
    "GAMMA = 0.9  # Hệ số giảm (discount factor)\n",
    "MAX_EPISODES = 13  # Số tối đa các tình huống\n",
    "FRESH_TIME = 0.3  # Thời gian mỗi bước di chuyển"
   ]
  },
  {
   "cell_type": "code",
   "execution_count": 14,
   "metadata": {},
   "outputs": [
    {
     "data": {
      "text/html": [
       "<div>\n",
       "<style scoped>\n",
       "    .dataframe tbody tr th:only-of-type {\n",
       "        vertical-align: middle;\n",
       "    }\n",
       "\n",
       "    .dataframe tbody tr th {\n",
       "        vertical-align: top;\n",
       "    }\n",
       "\n",
       "    .dataframe thead th {\n",
       "        text-align: right;\n",
       "    }\n",
       "</style>\n",
       "<table border=\"1\" class=\"dataframe\">\n",
       "  <thead>\n",
       "    <tr style=\"text-align: right;\">\n",
       "      <th></th>\n",
       "      <th>left</th>\n",
       "      <th>right</th>\n",
       "    </tr>\n",
       "  </thead>\n",
       "  <tbody>\n",
       "    <tr>\n",
       "      <th>0</th>\n",
       "      <td>0.0</td>\n",
       "      <td>0.0</td>\n",
       "    </tr>\n",
       "    <tr>\n",
       "      <th>1</th>\n",
       "      <td>0.0</td>\n",
       "      <td>0.0</td>\n",
       "    </tr>\n",
       "    <tr>\n",
       "      <th>2</th>\n",
       "      <td>0.0</td>\n",
       "      <td>0.0</td>\n",
       "    </tr>\n",
       "    <tr>\n",
       "      <th>3</th>\n",
       "      <td>0.0</td>\n",
       "      <td>0.0</td>\n",
       "    </tr>\n",
       "    <tr>\n",
       "      <th>4</th>\n",
       "      <td>0.0</td>\n",
       "      <td>0.0</td>\n",
       "    </tr>\n",
       "    <tr>\n",
       "      <th>5</th>\n",
       "      <td>0.0</td>\n",
       "      <td>0.0</td>\n",
       "    </tr>\n",
       "  </tbody>\n",
       "</table>\n",
       "</div>"
      ],
      "text/plain": [
       "   left  right\n",
       "0   0.0    0.0\n",
       "1   0.0    0.0\n",
       "2   0.0    0.0\n",
       "3   0.0    0.0\n",
       "4   0.0    0.0\n",
       "5   0.0    0.0"
      ]
     },
     "execution_count": 14,
     "metadata": {},
     "output_type": "execute_result"
    }
   ],
   "source": [
    "def build_q_table(n_states, actions):\n",
    "    # Tạo một bảng Q-table ban đầu với giá trị ban đầu là 0\n",
    "    table = pd.DataFrame(\n",
    "        np.zeros((n_states, len(actions))),\n",
    "        columns=actions\n",
    "    )\n",
    "    return table\n",
    "q_table = build_q_table(N_STATES, ACTIONS)\n",
    "q_table"
   ]
  },
  {
   "cell_type": "code",
   "execution_count": 27,
   "metadata": {},
   "outputs": [
    {
     "name": "stdout",
     "output_type": "stream",
     "text": [
      "Chosen action in state 2 is: right\n"
     ]
    }
   ],
   "source": [
    "def choose_action(state, q_table):\n",
    "    # Chọn một hành động dựa trên chiến lược epsilon-greedy\n",
    "    state_actions = q_table.iloc[state, :]\n",
    "    if (np.random.uniform() > EPSILON) or (state_actions.all() == 0):\n",
    "        action_name = np.random.choice(ACTIONS)  # Thực hiện hành động ngẫu nhiên\n",
    "    else:\n",
    "        action_name = state_actions.idxmax()  # Thực hiện hành động tham lam\n",
    "    return action_name\n",
    "\n",
    "# Ví dụ sử dụng hàm choose_action\n",
    "S = 2  # Ví dụ trạng thái là 2\n",
    "action = choose_action(S, q_table)\n",
    "print(\"Chosen action in state\", S, \"is:\", action)"
   ]
  },
  {
   "cell_type": "code",
   "execution_count": 19,
   "metadata": {},
   "outputs": [
    {
     "name": "stdout",
     "output_type": "stream",
     "text": [
      "Current State: 2\n",
      "Action: right\n",
      "Next State: 3\n",
      "Reward: 0\n"
     ]
    }
   ],
   "source": [
    "def get_env_feedback(S, A):\n",
    "    # Tương tác của tác nhân với môi trường\n",
    "    if A == 'right':  # Di chuyển sang phải\n",
    "        if S == N_STATES - 2:  # Điều kiện dừng\n",
    "            S_ = 'terminal'\n",
    "            R = 1\n",
    "        else:\n",
    "            S_ = S + 1\n",
    "            R = 0\n",
    "    else:  # Di chuyển sang trái\n",
    "        R = 0\n",
    "        if S == 0:\n",
    "            S_ = S  # Đến tường\n",
    "        else:\n",
    "            S_ = S - 1\n",
    "    return S_, R\n",
    "# Ví dụ sử dụng hàm get_env_feedback\n",
    "current_state = 2\n",
    "action = 'right'\n",
    "next_state, reward = get_env_feedback(current_state, action)\n",
    "print(\"Current State:\", current_state)\n",
    "print(\"Action:\", action)\n",
    "print(\"Next State:\", next_state)\n",
    "print(\"Reward:\", reward)"
   ]
  },
  {
   "cell_type": "code",
   "execution_count": 21,
   "metadata": {},
   "outputs": [
    {
     "name": "stdout",
     "output_type": "stream",
     "text": [
      " ình huống 6: Tổng số bước = 10"
     ]
    }
   ],
   "source": [
    "def update_env(S, episode, step_counter):\n",
    "    # Cập nhật môi trường hiển thị\n",
    "    env_list = ['-'] * (N_STATES - 1) + ['T']  # Môi trường của chúng ta: '---------T'\n",
    "    if S == 'terminal':\n",
    "        interaction = 'Tình huống %s: Tổng số bước = %s' % (episode + 1, step_counter)\n",
    "        print('\\r{}'.format(interaction), end='')\n",
    "        time.sleep(2)\n",
    "        print('\\r ', end='')\n",
    "    else:\n",
    "        env_list[S] = 'o'\n",
    "        interaction = ''.join(env_list)\n",
    "        print('\\r{}'.format(interaction), end='')\n",
    "        time.sleep(FRESH_TIME)\n",
    "\n",
    "# Ví dụ sử dụng hàm update_env\n",
    "update_env('terminal', 5, 10)"
   ]
  },
  {
   "cell_type": "code",
   "execution_count": 22,
   "metadata": {},
   "outputs": [
    {
     "name": "stdout",
     "output_type": "stream",
     "text": [
      " ình huống 13: Tổng số bước = 7\n",
      "Bảng Q:\n",
      "\n",
      "       left     right\n",
      "0  0.000001  0.005728\n",
      "1  0.000271  0.032612\n",
      "2  0.002454  0.111724\n",
      "3  0.000073  0.343331\n",
      "4  0.000810  0.745813\n",
      "5  0.000000  0.000000\n"
     ]
    }
   ],
   "source": [
    "def rl():\n",
    "    # Phần chính của vòng lặp Q-learning\n",
    "    q_table = build_q_table(N_STATES, ACTIONS)\n",
    "    for episode in range(MAX_EPISODES):\n",
    "        step_counter = 0\n",
    "        S = 0\n",
    "        is_terminated = False\n",
    "        update_env(S, episode, step_counter)\n",
    "        while not is_terminated:\n",
    "            A = choose_action(S, q_table)\n",
    "            S_, R = get_env_feedback(S, A)  # Thực hiện hành động và nhận trạng thái tiếp theo và phần thưởng\n",
    "            q_predict = q_table.loc[S, A]\n",
    "            if S_ != 'terminal':\n",
    "                q_target = R + GAMMA * q_table.iloc[S_].max()  # Trạng thái tiếp theo không phải là trạng thái kết thúc\n",
    "            else:\n",
    "                q_target = R  # Trạng thái tiếp theo là trạng thái kết thúc\n",
    "                is_terminated = True  # Kết thúc tình huống này\n",
    "            q_table.loc[S, A] += ALPHA * (q_target - q_predict)  # Cập nhật giá trị Q\n",
    "            S = S_  # Di chuyển đến trạng thái tiếp theo\n",
    "            update_env(S, episode, step_counter + 1)\n",
    "            step_counter += 1\n",
    "    return q_table\n",
    "\n",
    "if __name__ == \"__main__\":\n",
    "    q_table = rl()\n",
    "    print('\\r\\nBảng Q:\\n')\n",
    "    print(q_table)"
   ]
  }
 ],
 "metadata": {
  "kernelspec": {
   "display_name": "Python 3",
   "language": "python",
   "name": "python3"
  },
  "language_info": {
   "codemirror_mode": {
    "name": "ipython",
    "version": 3
   },
   "file_extension": ".py",
   "mimetype": "text/x-python",
   "name": "python",
   "nbconvert_exporter": "python",
   "pygments_lexer": "ipython3",
   "version": "3.11.5"
  },
  "orig_nbformat": 4
 },
 "nbformat": 4,
 "nbformat_minor": 2
}
