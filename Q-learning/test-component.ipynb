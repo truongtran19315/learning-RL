{
 "cells": [
  {
   "cell_type": "code",
   "execution_count": 9,
   "metadata": {},
   "outputs": [
    {
     "data": {
      "text/plain": [
       "0.43599490214200376"
      ]
     },
     "execution_count": 9,
     "metadata": {},
     "output_type": "execute_result"
    }
   ],
   "source": [
    "import numpy as np\n",
    "import pandas as pd\n",
    "import time\n",
    "np.random.seed(2)  # Để có thể tạo kết quả giống nhau mỗi lần chạy (đảm bảo tái tạo)\n",
    "\n",
    "N_STATES = 6  # Độ dài của thế giới 1 chiều\n",
    "ACTIONS = ['left', 'right']  # Các hành động có sẵn\n",
    "EPSILON = 0.9  # Tham lam (epsilon-greedy)\n",
    "ALPHA = 0.1  # Tốc độ học (learning rate)\n",
    "GAMMA = 0.9  # Hệ số giảm (discount factor)\n",
    "MAX_EPISODES = 13  # Số tối đa các tình huống\n",
    "FRESH_TIME = 0.3  # Thời gian mỗi bước di chuyển\n",
    "\n",
    "def build_q_table(n_states, actions):\n",
    "    # Tạo một bảng Q-table ban đầu với giá trị ban đầu là 0\n",
    "    table = pd.DataFrame(\n",
    "        np.zeros((n_states, len(actions))),\n",
    "        columns=actions\n",
    "    )\n",
    "    return table\n",
    "\n",
    "random_number = np.random.uniform()\n",
    "random_number"
   ]
  },
  {
   "cell_type": "code",
   "execution_count": 18,
   "metadata": {},
   "outputs": [
    {
     "data": {
      "text/plain": [
       "'left'"
      ]
     },
     "execution_count": 18,
     "metadata": {},
     "output_type": "execute_result"
    }
   ],
   "source": [
    "action_name = np.random.choice(ACTIONS)\n",
    "action_name"
   ]
  },
  {
   "cell_type": "code",
   "execution_count": 27,
   "metadata": {},
   "outputs": [
    {
     "name": "stdout",
     "output_type": "stream",
     "text": [
      "   A  B  C\n",
      "0  1  4  7\n",
      "1  2  5  8\n",
      "2  3  6  9\n",
      "     A    B    C\n",
      "0  0.0  0.0  0.0\n",
      "1  0.0  0.0  0.0\n",
      "2  0.0  0.0  0.0\n",
      "A    2\n",
      "B    5\n",
      "C    8\n",
      "Name: 1, dtype: int64\n"
     ]
    }
   ],
   "source": [
    "data = {'A': [1, 2, 3],\n",
    "        'B': [4, 5, 6],\n",
    "        'C': [7, 8, 9]}\n",
    "\n",
    "df = pd.DataFrame(data)\n",
    "\n",
    "df2 = pd.DataFrame(np.zeros((3, 3)), \n",
    "                   columns=['A', 'B', 'C'])\n",
    "\n",
    "# DataFrame df sẽ có dạng:\n",
    "#    A  B  C\n",
    "# 0  1  4  7\n",
    "# 1  2  5  8\n",
    "# 2  3  6  9\n",
    "first_row = df.iloc[1, :]\n",
    "print(df)\n",
    "print(df2)\n",
    "print(first_row)\n"
   ]
  },
  {
   "cell_type": "code",
   "execution_count": 31,
   "metadata": {},
   "outputs": [
    {
     "name": "stdout",
     "output_type": "stream",
     "text": [
      "   left  right\n",
      "0     0      0\n",
      "1     0      5\n",
      "2     0      0\n",
      "Giá trị Q cho trạng thái 1 và hành động \"right\" là: 5\n"
     ]
    }
   ],
   "source": [
    "# Tạo một DataFrame ví dụ với 3 trạng thái và 2 hành động\n",
    "q_table_1 = pd.DataFrame(\n",
    "    data=[[0, 0], [0, 5], [0, 0]],  # Giá trị Q ban đầu là 0 cho mọi cặp (trạng thái, hành động)\n",
    "    columns=['left', 'right']  # Tên của các hành động\n",
    ")\n",
    "print(q_table_1)\n",
    "\n",
    "# Lấy giá trị Q cho một cặp trạng thái và hành động cụ thể\n",
    "state = 1  # Trạng thái ví dụ\n",
    "action = 'right'  # Hành động ví dụ\n",
    "\n",
    "# Sử dụng .loc[] để lấy giá trị Q ứng với trạng thái và hành động\n",
    "q_value = q_table_1.loc[state, action]\n",
    "\n",
    "# In giá trị Q ứng với cặp trạng thái và hành động\n",
    "print(f'Giá trị Q cho trạng thái {state} và hành động \"{action}\" là: {q_value}')\n"
   ]
  }
 ],
 "metadata": {
  "kernelspec": {
   "display_name": "Python 3",
   "language": "python",
   "name": "python3"
  },
  "language_info": {
   "codemirror_mode": {
    "name": "ipython",
    "version": 3
   },
   "file_extension": ".py",
   "mimetype": "text/x-python",
   "name": "python",
   "nbconvert_exporter": "python",
   "pygments_lexer": "ipython3",
   "version": "3.11.5"
  },
  "orig_nbformat": 4
 },
 "nbformat": 4,
 "nbformat_minor": 2
}
